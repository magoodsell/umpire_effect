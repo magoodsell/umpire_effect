{
  "cells": [
    {
      "cell_type": "markdown",
      "metadata": {
        "id": "view-in-github",
        "colab_type": "text"
      },
      "source": [
        "<a href=\"https://colab.research.google.com/github/magoodsell/umpire_effect/blob/main/MLB_Umpire_Evaluation_for_MAA.ipynb\" target=\"_parent\"><img src=\"https://colab.research.google.com/assets/colab-badge.svg\" alt=\"Open In Colab\"/></a>"
      ]
    },
    {
      "cell_type": "markdown",
      "source": [
        "Reference Link: https://baseballsavant.mlb.com/csv-docs"
      ],
      "metadata": {
        "id": "zWnZL6hpjLck"
      }
    },
    {
      "cell_type": "markdown",
      "source": [
        "Abstract: \n",
        "\n",
        "Teams can lose a game in the smallest of margins and coaches often say things even out, but is this true for missed calls in the MLB across a season? We take a look at the the 2022 MLB season and use statcast data to analyze how missed calls affect the expected runs per plate appearance to further analyze how a teams record can be affected by adjusting the score to total runs expectancy on those missed calls. \n"
      ],
      "metadata": {
        "id": "9k5zkGYwjVxM"
      }
    },
    {
      "cell_type": "code",
      "source": [
        "pip install pybaseball"
      ],
      "metadata": {
        "id": "8EYsy4P_6wc8",
        "outputId": "5a23fc2d-902e-41de-bfde-b57b79d7112e",
        "colab": {
          "base_uri": "https://localhost:8080/"
        }
      },
      "execution_count": null,
      "outputs": [
        {
          "output_type": "stream",
          "name": "stdout",
          "text": [
            "Looking in indexes: https://pypi.org/simple, https://us-python.pkg.dev/colab-wheels/public/simple/\n",
            "Collecting pybaseball\n",
            "  Downloading pybaseball-2.2.5-py3-none-any.whl (419 kB)\n",
            "\u001b[2K     \u001b[90m━━━━━━━━━━━━━━━━━━━━━━━━━━━━━━━━━━━━━━━\u001b[0m \u001b[32m420.0/420.0 KB\u001b[0m \u001b[31m5.3 MB/s\u001b[0m eta \u001b[36m0:00:00\u001b[0m\n",
            "\u001b[?25hRequirement already satisfied: numpy>=1.13.0 in /usr/local/lib/python3.9/dist-packages (from pybaseball) (1.22.4)\n",
            "Requirement already satisfied: beautifulsoup4>=4.4.0 in /usr/local/lib/python3.9/dist-packages (from pybaseball) (4.9.3)\n",
            "Requirement already satisfied: lxml>=4.2.1 in /usr/local/lib/python3.9/dist-packages (from pybaseball) (4.9.2)\n",
            "Requirement already satisfied: requests>=2.18.1 in /usr/local/lib/python3.9/dist-packages (from pybaseball) (2.25.1)\n",
            "Requirement already satisfied: pyarrow>=1.0.1 in /usr/local/lib/python3.9/dist-packages (from pybaseball) (9.0.0)\n",
            "Requirement already satisfied: matplotlib>=2.0.0 in /usr/local/lib/python3.9/dist-packages (from pybaseball) (3.5.3)\n",
            "Requirement already satisfied: pandas>=1.0.3 in /usr/local/lib/python3.9/dist-packages (from pybaseball) (1.4.4)\n",
            "Collecting pygithub>=1.51\n",
            "  Downloading PyGithub-1.58.0-py3-none-any.whl (312 kB)\n",
            "\u001b[2K     \u001b[90m━━━━━━━━━━━━━━━━━━━━━━━━━━━━━━━━━━━━━━\u001b[0m \u001b[32m312.4/312.4 KB\u001b[0m \u001b[31m15.6 MB/s\u001b[0m eta \u001b[36m0:00:00\u001b[0m\n",
            "\u001b[?25hRequirement already satisfied: scipy>=1.4.0 in /usr/local/lib/python3.9/dist-packages (from pybaseball) (1.10.1)\n",
            "Requirement already satisfied: attrs>=20.3.0 in /usr/local/lib/python3.9/dist-packages (from pybaseball) (22.2.0)\n",
            "Requirement already satisfied: tqdm>=4.50.0 in /usr/local/lib/python3.9/dist-packages (from pybaseball) (4.65.0)\n",
            "Requirement already satisfied: soupsieve>1.2 in /usr/local/lib/python3.9/dist-packages (from beautifulsoup4>=4.4.0->pybaseball) (2.4)\n",
            "Requirement already satisfied: cycler>=0.10 in /usr/local/lib/python3.9/dist-packages (from matplotlib>=2.0.0->pybaseball) (0.11.0)\n",
            "Requirement already satisfied: packaging>=20.0 in /usr/local/lib/python3.9/dist-packages (from matplotlib>=2.0.0->pybaseball) (23.0)\n",
            "Requirement already satisfied: fonttools>=4.22.0 in /usr/local/lib/python3.9/dist-packages (from matplotlib>=2.0.0->pybaseball) (4.39.0)\n",
            "Requirement already satisfied: python-dateutil>=2.7 in /usr/local/lib/python3.9/dist-packages (from matplotlib>=2.0.0->pybaseball) (2.8.2)\n",
            "Requirement already satisfied: pyparsing>=2.2.1 in /usr/local/lib/python3.9/dist-packages (from matplotlib>=2.0.0->pybaseball) (3.0.9)\n",
            "Requirement already satisfied: kiwisolver>=1.0.1 in /usr/local/lib/python3.9/dist-packages (from matplotlib>=2.0.0->pybaseball) (1.4.4)\n",
            "Requirement already satisfied: pillow>=6.2.0 in /usr/local/lib/python3.9/dist-packages (from matplotlib>=2.0.0->pybaseball) (8.4.0)\n",
            "Requirement already satisfied: pytz>=2020.1 in /usr/local/lib/python3.9/dist-packages (from pandas>=1.0.3->pybaseball) (2022.7.1)\n",
            "Collecting deprecated\n",
            "  Downloading Deprecated-1.2.13-py2.py3-none-any.whl (9.6 kB)\n",
            "Collecting pynacl>=1.4.0\n",
            "  Downloading PyNaCl-1.5.0-cp36-abi3-manylinux_2_17_x86_64.manylinux2014_x86_64.manylinux_2_24_x86_64.whl (856 kB)\n",
            "\u001b[2K     \u001b[90m━━━━━━━━━━━━━━━━━━━━━━━━━━━━━━━━━━━━━━\u001b[0m \u001b[32m856.7/856.7 KB\u001b[0m \u001b[31m28.0 MB/s\u001b[0m eta \u001b[36m0:00:00\u001b[0m\n",
            "\u001b[?25hCollecting pyjwt>=2.4.0\n",
            "  Downloading PyJWT-2.6.0-py3-none-any.whl (20 kB)\n",
            "Requirement already satisfied: urllib3<1.27,>=1.21.1 in /usr/local/lib/python3.9/dist-packages (from requests>=2.18.1->pybaseball) (1.26.15)\n",
            "Requirement already satisfied: idna<3,>=2.5 in /usr/local/lib/python3.9/dist-packages (from requests>=2.18.1->pybaseball) (2.10)\n",
            "Requirement already satisfied: chardet<5,>=3.0.2 in /usr/local/lib/python3.9/dist-packages (from requests>=2.18.1->pybaseball) (4.0.0)\n",
            "Requirement already satisfied: certifi>=2017.4.17 in /usr/local/lib/python3.9/dist-packages (from requests>=2.18.1->pybaseball) (2022.12.7)\n",
            "Requirement already satisfied: cffi>=1.4.1 in /usr/local/lib/python3.9/dist-packages (from pynacl>=1.4.0->pygithub>=1.51->pybaseball) (1.15.1)\n",
            "Requirement already satisfied: six>=1.5 in /usr/local/lib/python3.9/dist-packages (from python-dateutil>=2.7->matplotlib>=2.0.0->pybaseball) (1.15.0)\n",
            "Requirement already satisfied: wrapt<2,>=1.10 in /usr/local/lib/python3.9/dist-packages (from deprecated->pygithub>=1.51->pybaseball) (1.15.0)\n",
            "Requirement already satisfied: pycparser in /usr/local/lib/python3.9/dist-packages (from cffi>=1.4.1->pynacl>=1.4.0->pygithub>=1.51->pybaseball) (2.21)\n",
            "Installing collected packages: pyjwt, deprecated, pynacl, pygithub, pybaseball\n",
            "Successfully installed deprecated-1.2.13 pybaseball-2.2.5 pygithub-1.58.0 pyjwt-2.6.0 pynacl-1.5.0\n"
          ]
        }
      ]
    },
    {
      "cell_type": "code",
      "source": [
        "from pybaseball import statcast\n",
        "import pandas as pd"
      ],
      "metadata": {
        "id": "_arZTVdo6z_5"
      },
      "execution_count": null,
      "outputs": []
    },
    {
      "cell_type": "code",
      "source": [
        "df = statcast(start_dt=\"2019-06-24\", end_dt=\"2019-06-25\")\n",
        "# The full 2022 season (takes a long time to process)\n",
        "#df = statcast(start_dt=\"2022-04-07\", end_dt=\"2022-10-05\") \n",
        "\n",
        "data = df.filter(items = ['pitch_type', 'game_date', 'player_name', 'events',\n",
        "       'description','zone', 'des','inning',\n",
        "       'game_type', 'stand', 'p_throws', 'home_team', 'away_team', 'type', 'balls', 'strikes', 'game_year',\n",
        "       'delta_home_win_exp', 'delta_run_exp'])"
      ],
      "metadata": {
        "id": "mf1jUGh666He",
        "outputId": "0b6e99c6-78d6-4350-91eb-ba513876139d",
        "colab": {
          "base_uri": "https://localhost:8080/"
        }
      },
      "execution_count": null,
      "outputs": [
        {
          "output_type": "stream",
          "name": "stdout",
          "text": [
            "This is a large query, it may take a moment to complete\n"
          ]
        },
        {
          "output_type": "stream",
          "name": "stderr",
          "text": [
            "100%|██████████| 2/2 [00:14<00:00,  7.10s/it]\n"
          ]
        }
      ]
    },
    {
      "cell_type": "code",
      "source": [
        "# zone 1-9 are \"strikes\" 11-14 are \"balls\"\n",
        "#data['zone']\n",
        "#data['type']\n",
        "#data['events']"
      ],
      "metadata": {
        "id": "kQRWbM4o7BKL",
        "outputId": "34829c66-093c-4aa3-846d-f0cec9df109d",
        "colab": {
          "base_uri": "https://localhost:8080/"
        }
      },
      "execution_count": null,
      "outputs": [
        {
          "output_type": "execute_result",
          "data": {
            "text/plain": [
              "3006    field_out\n",
              "3063    strikeout\n",
              "3194          NaN\n",
              "3274          NaN\n",
              "3399          NaN\n",
              "          ...    \n",
              "1851          NaN\n",
              "1872       single\n",
              "1974          NaN\n",
              "1988          NaN\n",
              "2089          NaN\n",
              "Name: events, Length: 6439, dtype: object"
            ]
          },
          "metadata": {},
          "execution_count": 39
        }
      ]
    },
    {
      "cell_type": "code",
      "source": [
        "strikes = data.loc[data['zone'] < 10]\n",
        "bad_balls = strikes.loc[strikes['description'] == 'ball']\n",
        "bad_walks = bad_balls.loc[bad_balls['events'] == 'walk']\n",
        "bad_walks\n",
        "sum(bad_walks['delta_run_exp'])"
      ],
      "metadata": {
        "id": "t32E93BZ9O5o",
        "outputId": "1243051a-b5c7-4dfd-ce35-4c7e94af52ec",
        "colab": {
          "base_uri": "https://localhost:8080/"
        }
      },
      "execution_count": null,
      "outputs": [
        {
          "output_type": "execute_result",
          "data": {
            "text/plain": [
              "0.144"
            ]
          },
          "metadata": {},
          "execution_count": 13
        }
      ]
    },
    {
      "cell_type": "code",
      "source": [
        "balls = data.loc[data['zone'] > 10]\n",
        "bad_strikes = balls.loc[balls['description'] == 'called_strike']\n",
        "bad_strikeouts = bad_strikes.loc[bad_strikes['events'] == 'strikeout']\n",
        "bad_strikeouts\n",
        "sum(bad_strikeouts['delta_run_exp'])"
      ],
      "metadata": {
        "id": "BcG55gzw6iC9",
        "outputId": "f76ae996-934d-41df-c507-e3f700aec6b5",
        "colab": {
          "base_uri": "https://localhost:8080/"
        }
      },
      "execution_count": null,
      "outputs": [
        {
          "output_type": "execute_result",
          "data": {
            "text/plain": [
              "-4.226"
            ]
          },
          "metadata": {},
          "execution_count": 14
        }
      ]
    },
    {
      "cell_type": "markdown",
      "source": [],
      "metadata": {
        "id": "WrocWO-xjKik"
      }
    }
  ],
  "metadata": {
    "colab": {
      "toc_visible": true,
      "provenance": [],
      "include_colab_link": true
    },
    "kernelspec": {
      "display_name": "Python 3",
      "name": "python3"
    }
  },
  "nbformat": 4,
  "nbformat_minor": 0
}